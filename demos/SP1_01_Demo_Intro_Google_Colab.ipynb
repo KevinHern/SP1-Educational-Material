{
  "nbformat": 4,
  "nbformat_minor": 0,
  "metadata": {
    "colab": {
      "provenance": [],
      "toc_visible": true,
      "include_colab_link": true
    },
    "kernelspec": {
      "name": "python3",
      "display_name": "Python 3"
    },
    "language_info": {
      "name": "python"
    }
  },
  "cells": [
    {
      "cell_type": "markdown",
      "metadata": {
        "id": "view-in-github",
        "colab_type": "text"
      },
      "source": [
        "<a href=\"https://colab.research.google.com/github/KevinHern/SP1-Educational-Material/blob/main/demos/SP1_01_Demo_Intro_Google_Colab.ipynb\" target=\"_parent\"><img src=\"https://colab.research.google.com/assets/colab-badge.svg\" alt=\"Open In Colab\"/></a>"
      ]
    },
    {
      "cell_type": "markdown",
      "source": [
        "# DEMO #01\n",
        "\n",
        "In this demo we are going to explore a little of what Google Colab has to offer.\n",
        "\n",
        "Google colab is an environment specialized for developing artificial intelligence which runs in the cloud. The language it supports is Python and pretty much all the libraries that come up with (some have to be installed, others are already in the Virtual Machine).\n",
        "\n",
        "All the progress you make in the session, gets saved automatically (if it fails, you will get a warning).\n",
        "\n",
        "\n",
        "\n"
      ],
      "metadata": {
        "id": "_K-90LWG8yYe"
      }
    },
    {
      "cell_type": "code",
      "source": [
        "!python --version"
      ],
      "metadata": {
        "id": "jeD-D2gepra0",
        "colab": {
          "base_uri": "https://localhost:8080/"
        },
        "outputId": "9ee472d9-48fa-4938-f81b-228de6878a3e"
      },
      "execution_count": 1,
      "outputs": [
        {
          "output_type": "stream",
          "name": "stdout",
          "text": [
            "Python 3.8.16\n"
          ]
        }
      ]
    },
    {
      "cell_type": "code",
      "execution_count": 2,
      "metadata": {
        "id": "27AJuZal8xSm",
        "colab": {
          "base_uri": "https://localhost:8080/",
          "height": 1000
        },
        "outputId": "1fbcba38-bd4b-4f73-a67b-a45c8b535d6d"
      },
      "outputs": [
        {
          "output_type": "stream",
          "name": "stdout",
          "text": [
            "Hello World!\n",
            "Hello World!\n",
            "Hello World!\n",
            "Hello World!\n",
            "Hello World!\n",
            "Hello World!\n",
            "Hello World!\n",
            "Hello World!\n",
            "Hello World!\n",
            "Hello World!\n",
            "Hello World!\n",
            "Hello World!\n",
            "Hello World!\n",
            "Hello World!\n",
            "Hello World!\n",
            "Hello World!\n",
            "Hello World!\n",
            "Hello World!\n",
            "Hello World!\n",
            "Hello World!\n",
            "Hello World!\n",
            "Hello World!\n",
            "Hello World!\n",
            "Hello World!\n",
            "Hello World!\n",
            "Hello World!\n",
            "Hello World!\n",
            "Hello World!\n",
            "Hello World!\n",
            "Hello World!\n",
            "Hello World!\n",
            "Hello World!\n",
            "Hello World!\n",
            "Hello World!\n",
            "Hello World!\n",
            "Hello World!\n",
            "Hello World!\n",
            "Hello World!\n",
            "Hello World!\n",
            "Hello World!\n",
            "Hello World!\n",
            "Hello World!\n",
            "Hello World!\n",
            "Hello World!\n",
            "Hello World!\n",
            "Hello World!\n",
            "Hello World!\n",
            "Hello World!\n",
            "Hello World!\n",
            "Hello World!\n",
            "Hello World!\n",
            "Hello World!\n",
            "Hello World!\n",
            "Hello World!\n",
            "Hello World!\n",
            "Hello World!\n",
            "Hello World!\n",
            "Hello World!\n",
            "Hello World!\n",
            "Hello World!\n",
            "Hello World!\n",
            "Hello World!\n",
            "Hello World!\n",
            "Hello World!\n",
            "Hello World!\n",
            "Hello World!\n",
            "Hello World!\n",
            "Hello World!\n",
            "Hello World!\n",
            "Hello World!\n",
            "Hello World!\n",
            "Hello World!\n",
            "Hello World!\n",
            "Hello World!\n",
            "Hello World!\n",
            "Hello World!\n",
            "Hello World!\n",
            "Hello World!\n",
            "Hello World!\n",
            "Hello World!\n",
            "Hello World!\n",
            "Hello World!\n",
            "Hello World!\n",
            "Hello World!\n",
            "Hello World!\n",
            "Hello World!\n",
            "Hello World!\n",
            "Hello World!\n",
            "Hello World!\n",
            "Hello World!\n",
            "Hello World!\n",
            "Hello World!\n",
            "Hello World!\n",
            "Hello World!\n",
            "Hello World!\n",
            "Hello World!\n",
            "Hello World!\n",
            "Hello World!\n",
            "Hello World!\n",
            "Hello World!\n"
          ]
        },
        {
          "output_type": "execute_result",
          "data": {
            "text/plain": [
              "'\\n  To execute this cell, click on the play button in the top left corner\\n  OR press Ctrl + Enter\\n\\n  Look! The output is displayed in a window below this cell. If the output\\n  surpasses a character limit, it will truncate to the most recent results\\n'"
            ],
            "application/vnd.google.colaboratory.intrinsic+json": {
              "type": "string"
            }
          },
          "metadata": {},
          "execution_count": 2
        }
      ],
      "source": [
        "# As you can see, it is normal Python code! ... There are no tricks, I swear\n",
        "for i in range(100):\n",
        "  print(\"Hello World!\")\n",
        "\n",
        "'''\n",
        "  To execute this cell, click on the play button in the top left corner\n",
        "  OR press Ctrl + Enter\n",
        "\n",
        "  Look! The output is displayed in a window below this cell. If the output\n",
        "  surpasses a character limit, it will truncate to the most recent results\n",
        "'''"
      ]
    },
    {
      "cell_type": "markdown",
      "source": [
        "## Left side/Left Bar\n",
        "\n",
        "The left side of every google colab has a vertical menu with 4 icons:\n",
        "\n",
        "\n",
        "*   **The first one is a table of contents - something like an index. You can click the titles that appear and you will be directed to that section of the colab.**\n",
        "*   The second one is pretty much Ctrl+F and replace words functionality.\n",
        "*   **The third one is the repository of all variables in memory while the session is still active. Basically a mini-debugger.**\n",
        "*   **The fourth one opens a very simple file system of the virtual machine. You can upload/download files here, check directories, have a preview of images, etc.**"
      ],
      "metadata": {
        "id": "LEZwZkiDEWJc"
      }
    },
    {
      "cell_type": "code",
      "source": [
        "# You can link your google drive repository with the fifth tab, so you can access your files from colab!\n",
        "# You can save and read files from your Drive directory"
      ],
      "metadata": {
        "id": "ZX6qycT1Hfgg"
      },
      "execution_count": 3,
      "outputs": []
    },
    {
      "cell_type": "markdown",
      "source": [
        "## Up bar (Top left corner)\n",
        "\n",
        "### Mini Menu\n",
        "Below the menu, you can find 2 options: **+Code** and **+Text**. The first one adds a cell which you can write code and the other one adds a Text cell which you can use to write documentation like this one!\n",
        "\n",
        "To add titles, subtitiles, etc. in text cells, use the '#'.\n",
        "\n",
        "1) #=Title\n",
        "\n",
        "2) ##== Subtitle\n",
        "\n",
        "3) ###== Smaller title\n",
        "\n",
        "4) Etc.\n",
        "\n",
        "### Menu\n",
        "Of the menu, we are going to focus on the _**Runtime**_ tab.\n",
        "For executing a bunch of cells, use these options:\n",
        "\n",
        "*   **Run All**: Runs all cells\n",
        "*   **Run Before**: Runs all cells before the one you are currently selecting.\n",
        "*   **Run After**: Runs the current cell you are currently selecting and all the remaining cells after it.\n",
        "\n",
        "Remember, this is a virtual machine so it has some memory reserved for your needs. There are many ways that can be cleaned up or in other terms: reset. It is a good option if things aren't working properly anymore or you want a fresh memory.\n",
        "\n",
        "*   **Restart Runtime**: Clears the memory and all the variables created. Files uploaded will not get deleted\n",
        "*   **Restart and Run All**: Same task as the one described above but runs all cells after the cleaning process is done.\n",
        "*   **Disconnect and Delete Runtime**: Fresh machine. New fresh instance of memory and all files are deleted.\n",
        "\n",
        "Now, a very important tab: **Change Runtime Type**\n",
        "\n",
        "This tab changes what hardware devices you can use for your work. Either a simple processor or use GPUs and even TPUs!\n",
        "However, as almost everyone of you (if not all) are starting with colab, y'all have a free plan.\n",
        "\n",
        "Within your possibilities, you can use GPU but your usages are limited, so keep that in mind and use it wisely!\n",
        "\n"
      ],
      "metadata": {
        "id": "IGlIunEjF-4r"
      }
    },
    {
      "cell_type": "markdown",
      "source": [
        "## Up Bar (Top right corner)\n",
        "\n",
        "The most important things are:\n",
        "\n",
        "*   **Share**: By default, your colabs are private. Make sure to change permissions to **Galileo University** OR **everyone** that has the link.\n",
        "*   **Settings (small gear)**: Go to the GitHub tab and you can save your colabs in some repositories! Cool, isn't it?\n",
        "*   **Resource Management**: This displays the RAM memory your current session is using and has available. **Once it is full, your session crashes and you lose all of your progress.** It also displays the disk usage - you will never use it completely.\n",
        "\n",
        "In this part of the course, we won't have any kind of excercises that use all the RAM memory."
      ],
      "metadata": {
        "id": "UMdE-nSRIwal"
      }
    },
    {
      "cell_type": "markdown",
      "source": [
        "## But wait, there is more!!!\n",
        "\n",
        "The code cells can execute console commands too!\n",
        "They are great for managing the file system, install dependencies and some packages using pip.\n",
        "\n",
        "The commands are UNIX based, so your years of Linux experience are going to pay off!\n",
        "\n",
        "Also, type '!' to tell colab it is a command."
      ],
      "metadata": {
        "id": "Yr9nTe9GKrPT"
      }
    },
    {
      "cell_type": "markdown",
      "source": [
        "### Text Modification\n",
        "\n",
        "I am **bold**!\n",
        "\n",
        "I am *italic*!\n",
        "\n",
        "I am ~strikethrough~!\n"
      ],
      "metadata": {
        "id": "whmfGfuKLATn"
      }
    },
    {
      "cell_type": "markdown",
      "source": [
        "### Latex Interpretation\n",
        "\n",
        "$\\sqrt{7x-1}+(4+x)^2$\n",
        "\n",
        "$e^x=\\sum_{i=0}^\\infty \\frac{1}{i!}x^i$"
      ],
      "metadata": {
        "id": "2ZUCt5rJKwlw"
      }
    },
    {
      "cell_type": "markdown",
      "source": [
        "### HTML stuff too!"
      ],
      "metadata": {
        "id": "hRlpJWseK0an"
      }
    },
    {
      "cell_type": "code",
      "source": [
        "%%html\n",
        "<marquee style='width: 30%; color: blue;'><b>Whee!</b></marquee>"
      ],
      "metadata": {
        "colab": {
          "base_uri": "https://localhost:8080/",
          "height": 39
        },
        "id": "Erq7FEGeK3_K",
        "outputId": "7c110128-5d95-4dad-ef75-b6dedd0156b6"
      },
      "execution_count": 4,
      "outputs": [
        {
          "output_type": "display_data",
          "data": {
            "text/plain": [
              "<IPython.core.display.HTML object>"
            ],
            "text/html": [
              "<marquee style='width: 30%; color: blue;'><b>Whee!</b></marquee>\n"
            ]
          },
          "metadata": {}
        }
      ]
    },
    {
      "cell_type": "code",
      "source": [
        "%%html\n",
        "<svg xmlns=\"http://www.w3.org/2000/svg\" viewBox=\"0 0 450 400\" width=\"200\" height=\"200\">\n",
        "  <rect x=\"80\" y=\"60\" width=\"250\" height=\"250\" rx=\"20\" style=\"fill:red; stroke:black; fill-opacity:0.7\" />\n",
        "  <rect x=\"180\" y=\"110\" width=\"250\" height=\"250\" rx=\"40\" style=\"fill:blue; stroke:black; fill-opacity:0.5;\" />\n",
        "</svg>"
      ],
      "metadata": {
        "colab": {
          "base_uri": "https://localhost:8080/",
          "height": 222
        },
        "id": "S6Wo5YZiK5hY",
        "outputId": "312aaf6a-2f1a-432e-9cb9-a5e085001b90"
      },
      "execution_count": 5,
      "outputs": [
        {
          "output_type": "display_data",
          "data": {
            "text/plain": [
              "<IPython.core.display.HTML object>"
            ],
            "text/html": [
              "<svg xmlns=\"http://www.w3.org/2000/svg\" viewBox=\"0 0 450 400\" width=\"200\" height=\"200\">\n",
              "  <rect x=\"80\" y=\"60\" width=\"250\" height=\"250\" rx=\"20\" style=\"fill:red; stroke:black; fill-opacity:0.7\" />\n",
              "  <rect x=\"180\" y=\"110\" width=\"250\" height=\"250\" rx=\"40\" style=\"fill:blue; stroke:black; fill-opacity:0.5;\" />\n",
              "</svg>\n"
            ]
          },
          "metadata": {}
        }
      ]
    },
    {
      "cell_type": "markdown",
      "source": [
        "### Simple File Manipulation"
      ],
      "metadata": {
        "id": "ujHmInvyLt2Y"
      }
    },
    {
      "cell_type": "code",
      "source": [
        "'''\n",
        "  HACKS:\n",
        "  - To run the whole selected cell: Ctrl+Enter\n",
        "  - To a single or a few lines, select them with the cursor then press Ctrl+Shift+Enter\n",
        "'''\n",
        "\n",
        "# Directory and file creation\n",
        "!mkdir test\n",
        "\n",
        "# All the files you create stay in the root\n",
        "!echo \"Hello world!\" > hello.txt\n",
        "!cp hello.txt hello2.txt\n",
        "!mv hello2.txt test\n",
        "!ls ./test\n",
        "\n",
        "# You can change directories too using a Macro!\n",
        "%cd test\n",
        "\n",
        "# Keep in mind: all the subsequent changes will be done in the directory you specified\n",
        "!rm hello2.txt\n",
        "\n",
        "%cd .."
      ],
      "metadata": {
        "id": "F9hjhi2cLmWE",
        "colab": {
          "base_uri": "https://localhost:8080/"
        },
        "outputId": "63ad665d-2faf-421b-ae35-b719f4c266da"
      },
      "execution_count": 6,
      "outputs": [
        {
          "output_type": "stream",
          "name": "stdout",
          "text": [
            "mkdir: cannot create directory ‘test’: File exists\n",
            "hello2.txt\n",
            "/content/test\n",
            "/content\n"
          ]
        }
      ]
    },
    {
      "cell_type": "markdown",
      "source": [
        "### Download files using WGET"
      ],
      "metadata": {
        "id": "MWsSxvfENSg7"
      }
    },
    {
      "cell_type": "code",
      "source": [
        "!wget https://www.smashbros.com/assets_v2/img/fighter/mario/main.png\n",
        "!mv main.png smash_mario.png\n",
        "!wget https://www.smashbros.com/assets_v2/img/fighter/cloud/main.png\n",
        "!mv main.png smash_cloud.png\n",
        "!wget https://www.smashbros.com/assets_v2/img/fighter/pyra/main.png\n",
        "!mv main.png smash_aegis.png"
      ],
      "metadata": {
        "id": "LeRxC6CzNV71",
        "colab": {
          "base_uri": "https://localhost:8080/"
        },
        "outputId": "3e1519c4-6618-4a21-8cac-aae736e36d06"
      },
      "execution_count": 7,
      "outputs": [
        {
          "output_type": "stream",
          "name": "stdout",
          "text": [
            "--2023-01-17 05:21:25--  https://www.smashbros.com/assets_v2/img/fighter/mario/main.png\n",
            "Resolving www.smashbros.com (www.smashbros.com)... 23.214.189.56\n",
            "Connecting to www.smashbros.com (www.smashbros.com)|23.214.189.56|:443... connected.\n",
            "HTTP request sent, awaiting response... 200 OK\n",
            "Length: 1191124 (1.1M) [image/png]\n",
            "Saving to: ‘main.png’\n",
            "\n",
            "main.png            100%[===================>]   1.14M  --.-KB/s    in 0.07s   \n",
            "\n",
            "2023-01-17 05:21:25 (16.6 MB/s) - ‘main.png’ saved [1191124/1191124]\n",
            "\n",
            "--2023-01-17 05:21:25--  https://www.smashbros.com/assets_v2/img/fighter/cloud/main.png\n",
            "Resolving www.smashbros.com (www.smashbros.com)... 23.214.189.56\n",
            "Connecting to www.smashbros.com (www.smashbros.com)|23.214.189.56|:443... connected.\n",
            "HTTP request sent, awaiting response... 200 OK\n",
            "Length: 2319002 (2.2M) [image/png]\n",
            "Saving to: ‘main.png’\n",
            "\n",
            "main.png            100%[===================>]   2.21M  --.-KB/s    in 0.08s   \n",
            "\n",
            "2023-01-17 05:21:25 (29.1 MB/s) - ‘main.png’ saved [2319002/2319002]\n",
            "\n",
            "--2023-01-17 05:21:25--  https://www.smashbros.com/assets_v2/img/fighter/pyra/main.png\n",
            "Resolving www.smashbros.com (www.smashbros.com)... 23.214.189.56\n",
            "Connecting to www.smashbros.com (www.smashbros.com)|23.214.189.56|:443... connected.\n",
            "HTTP request sent, awaiting response... 200 OK\n",
            "Length: 2960115 (2.8M) [image/png]\n",
            "Saving to: ‘main.png’\n",
            "\n",
            "main.png            100%[===================>]   2.82M  --.-KB/s    in 0.09s   \n",
            "\n",
            "2023-01-17 05:21:25 (33.1 MB/s) - ‘main.png’ saved [2960115/2960115]\n",
            "\n"
          ]
        }
      ]
    },
    {
      "cell_type": "markdown",
      "source": [
        "### Creating a server"
      ],
      "metadata": {
        "id": "7g92avKXpneX"
      }
    },
    {
      "cell_type": "code",
      "source": [
        "# Backend\n",
        "from flask import Flask, request, jsonify, send_file, make_response\n",
        "\n",
        "# We can install extra modules!\n",
        "!pip install flask-ngrok\n",
        "from flask_ngrok import run_with_ngrok"
      ],
      "metadata": {
        "id": "E0mdjqU8qBAv",
        "colab": {
          "base_uri": "https://localhost:8080/"
        },
        "outputId": "99463eb7-49e7-4e59-f37f-86f06929538f"
      },
      "execution_count": 8,
      "outputs": [
        {
          "output_type": "stream",
          "name": "stdout",
          "text": [
            "Looking in indexes: https://pypi.org/simple, https://us-python.pkg.dev/colab-wheels/public/simple/\n",
            "Requirement already satisfied: flask-ngrok in /usr/local/lib/python3.8/dist-packages (0.0.25)\n",
            "Requirement already satisfied: requests in /usr/local/lib/python3.8/dist-packages (from flask-ngrok) (2.25.1)\n",
            "Requirement already satisfied: Flask>=0.8 in /usr/local/lib/python3.8/dist-packages (from flask-ngrok) (1.1.4)\n",
            "Requirement already satisfied: itsdangerous<2.0,>=0.24 in /usr/local/lib/python3.8/dist-packages (from Flask>=0.8->flask-ngrok) (1.1.0)\n",
            "Requirement already satisfied: Jinja2<3.0,>=2.10.1 in /usr/local/lib/python3.8/dist-packages (from Flask>=0.8->flask-ngrok) (2.11.3)\n",
            "Requirement already satisfied: Werkzeug<2.0,>=0.15 in /usr/local/lib/python3.8/dist-packages (from Flask>=0.8->flask-ngrok) (1.0.1)\n",
            "Requirement already satisfied: click<8.0,>=5.1 in /usr/local/lib/python3.8/dist-packages (from Flask>=0.8->flask-ngrok) (7.1.2)\n",
            "Requirement already satisfied: urllib3<1.27,>=1.21.1 in /usr/local/lib/python3.8/dist-packages (from requests->flask-ngrok) (1.24.3)\n",
            "Requirement already satisfied: certifi>=2017.4.17 in /usr/local/lib/python3.8/dist-packages (from requests->flask-ngrok) (2022.12.7)\n",
            "Requirement already satisfied: chardet<5,>=3.0.2 in /usr/local/lib/python3.8/dist-packages (from requests->flask-ngrok) (4.0.0)\n",
            "Requirement already satisfied: idna<3,>=2.5 in /usr/local/lib/python3.8/dist-packages (from requests->flask-ngrok) (2.10)\n",
            "Requirement already satisfied: MarkupSafe>=0.23 in /usr/local/lib/python3.8/dist-packages (from Jinja2<3.0,>=2.10.1->Flask>=0.8->flask-ngrok) (2.0.1)\n"
          ]
        }
      ]
    },
    {
      "cell_type": "code",
      "source": [
        "# create the flask object\n",
        "app = Flask(__name__)\n",
        "run_with_ngrok(app)\n",
        "\n",
        "@app.route('/')\n",
        "def index():\n",
        "  my_str = \"Hello :D\"\n",
        "\n",
        "  # Building Response\n",
        "  json_map = {\"msg\": my_str}\n",
        "  response = make_response(jsonify(json_map))\n",
        "  response.status_code = 200\n",
        "  response.headers.add(\"Access-Control-Allow-Origin\", \"*\")\n",
        "  return response\n",
        "\n",
        "@app.route('/get_example', methods=['GET'])\n",
        "def get_image():\n",
        "  my_str = ''\n",
        "  try:\n",
        "      my_str = 'Testing word: ' + request.args.get('word')\n",
        "      print(my_str)\n",
        "      status_code = 200\n",
        "  except Exception as e:\n",
        "    print(e)\n",
        "    my_str = 'You did not send any word :('\n",
        "    status_code = 400\n",
        "  \n",
        "  # Building Response\n",
        "  json_map = {\"msg\": my_str}\n",
        "  response = make_response(jsonify(json_map))\n",
        "  response.status_code = status_code\n",
        "  response.headers.add(\"Access-Control-Allow-Origin\", \"*\")\n",
        "  return response\n",
        "\n",
        "if __name__ == \"__main__\":\n",
        "  app.run()"
      ],
      "metadata": {
        "id": "qg_szAL-qnkd",
        "colab": {
          "base_uri": "https://localhost:8080/"
        },
        "outputId": "a9e995dd-175a-4514-9d96-5104e3c8caec"
      },
      "execution_count": 9,
      "outputs": [
        {
          "output_type": "stream",
          "name": "stdout",
          "text": [
            " * Serving Flask app \"__main__\" (lazy loading)\n",
            " * Environment: production\n",
            "\u001b[31m   WARNING: This is a development server. Do not use it in a production deployment.\u001b[0m\n",
            "\u001b[2m   Use a production WSGI server instead.\u001b[0m\n",
            " * Debug mode: off\n"
          ]
        },
        {
          "output_type": "stream",
          "name": "stderr",
          "text": [
            "INFO:werkzeug: * Running on http://127.0.0.1:5000/ (Press CTRL+C to quit)\n"
          ]
        },
        {
          "output_type": "stream",
          "name": "stdout",
          "text": [
            " * Running on http://fc82-35-237-117-254.ngrok.io\n",
            " * Traffic stats available on http://127.0.0.1:4040\n"
          ]
        }
      ]
    }
  ]
}